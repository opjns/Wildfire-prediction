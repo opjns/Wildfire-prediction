{
  "cells": [
    {
      "cell_type": "markdown",
      "metadata": {
        "id": "gLe9OvVmVChY"
      },
      "source": [
        "#Climate Conditions"
      ]
    },
    {
      "cell_type": "markdown",
      "metadata": {
        "id": "drAuVYC1YBLV"
      },
      "source": [
        "##Load & Clean Data"
      ]
    },
    {
      "cell_type": "code",
      "source": [
        "%%writefile requirements.txt\n",
        "streamlit\n",
        "pandas\n",
        "numpy\n",
        "scikit-learn\n",
        "matplotlib\n",
        "seaborn\n",
        "Pillow\n",
        "joblib\n",
        "torch\n",
        "torchvision\n",
        "opencv-python\n",
        "kagglehub"
      ],
      "metadata": {
        "colab": {
          "base_uri": "https://localhost:8080/"
        },
        "id": "838OqIh4Ch8p",
        "outputId": "127de977-1d1a-4b07-e4c3-c74669a47c88"
      },
      "execution_count": 39,
      "outputs": [
        {
          "output_type": "stream",
          "name": "stdout",
          "text": [
            "Overwriting requirements.txt\n"
          ]
        }
      ]
    },
    {
      "cell_type": "code",
      "execution_count": 40,
      "metadata": {
        "id": "cjQWSf5XTb9R"
      },
      "outputs": [],
      "source": [
        "#import dataset\n",
        "#!pip install kagglehub\n",
        "import kagglehub\n",
        "import pandas as pd\n",
        "import os\n",
        "path1 = kagglehub.dataset_download(\"ayoubjadouli/morocco-wildfire-predictions-2010-2022-ml-dataset\") #Dataset จาก Jadouli, A. (2023). *Morocco Wildfire Predictions (2010-2022) ML Dataset* [Data set]. Kaggle. https://www.kaggle.com/datasets/ayoubjadouli/morocco-wildfire-predictions-2010-2022-ml-dataset\n",
        "file_path = os.path.join(path1, 'Date_final_dataset_balanced_float32.parquet')\n",
        "df = pd.read_parquet(file_path)\n",
        "df = df.head(20000)"
      ]
    },
    {
      "cell_type": "code",
      "execution_count": 41,
      "metadata": {
        "id": "8DQjaauOXP4Q"
      },
      "outputs": [],
      "source": [
        "#filter column จาก 128 ให้เหลือแค่ 8 ที่ใช้จริงๆ\n",
        "df = df[['latitude','longitude','NDVI','average_temperature_lag_1', 'precipitation_lag_1','dew_point_lag_1','wind_speed_lag_1','is_fire','acq_date']].rename(columns={\n",
        "    'average_temperature_lag_1': 'Temperature',\n",
        "    'precipitation_lag_1': 'Precipitation',\n",
        "    'dew_point_lag_1': 'Humidity',\n",
        "    'wind_speed_lag_1': 'Windspeed',\n",
        "    'acq_date': 'Date'})\n",
        "# Farenhiet -> Celcius\n",
        "df[\"Temperature\"] = (df[\"Temperature\"] - 32) * 5.0/9.0\n",
        "df.rename(columns={\"Temperature\": \"Temperature\"}, inplace=True)"
      ]
    },
    {
      "cell_type": "code",
      "execution_count": 42,
      "metadata": {
        "colab": {
          "base_uri": "https://localhost:8080/",
          "height": 363
        },
        "id": "BpX3qxhzXqZR",
        "outputId": "a518601a-3d39-48f1-89f1-d74ec67571cf"
      },
      "outputs": [
        {
          "output_type": "execute_result",
          "data": {
            "text/plain": [
              "    latitude  longitude    NDVI  Temperature  Precipitation   Humidity  \\\n",
              "0  31.390602  -4.254445  1139.0    23.055555            0.0  41.599998   \n",
              "1  33.832943  -5.188356  3223.0     7.333333            0.0  34.299999   \n",
              "2  35.385689  -5.684218  4987.0    18.055555            0.0  54.099998   \n",
              "3  30.122351  -7.498038   991.0    24.555553            0.0  23.799999   \n",
              "4  30.221554  -9.154314  2171.0    25.888889            0.0  46.299999   \n",
              "5  34.498917  -2.332624  1604.0    17.666666            0.0  54.000000   \n",
              "6  35.522633  -5.526712  5696.0    29.444445            0.0  52.099998   \n",
              "7  32.087673  -8.773463  1674.0    21.277779            0.0  58.500000   \n",
              "8  32.540138  -6.300411  2536.0    23.444443            0.0  58.099998   \n",
              "9  32.931473  -3.967042  1240.0    13.611111            0.0  30.700001   \n",
              "\n",
              "   Windspeed  is_fire       Date  \n",
              "0   6.200000      1.0 2015-05-28  \n",
              "1   5.400000      1.0 2017-12-05  \n",
              "2  21.299999      1.0 2021-11-19  \n",
              "3   3.500000      0.0 2014-04-19  \n",
              "4   8.100000      1.0 2014-04-11  \n",
              "5   4.700000      0.0 2022-11-11  \n",
              "6  12.200000      1.0 2019-08-20  \n",
              "7   6.600000      0.0 2020-11-02  \n",
              "8   5.000000      1.0 2014-09-23  \n",
              "9  12.600000      0.0 2016-03-20  "
            ],
            "text/html": [
              "\n",
              "  <div id=\"df-38e3e215-3bfb-4a81-bd26-be820d18bf4b\" class=\"colab-df-container\">\n",
              "    <div>\n",
              "<style scoped>\n",
              "    .dataframe tbody tr th:only-of-type {\n",
              "        vertical-align: middle;\n",
              "    }\n",
              "\n",
              "    .dataframe tbody tr th {\n",
              "        vertical-align: top;\n",
              "    }\n",
              "\n",
              "    .dataframe thead th {\n",
              "        text-align: right;\n",
              "    }\n",
              "</style>\n",
              "<table border=\"1\" class=\"dataframe\">\n",
              "  <thead>\n",
              "    <tr style=\"text-align: right;\">\n",
              "      <th></th>\n",
              "      <th>latitude</th>\n",
              "      <th>longitude</th>\n",
              "      <th>NDVI</th>\n",
              "      <th>Temperature</th>\n",
              "      <th>Precipitation</th>\n",
              "      <th>Humidity</th>\n",
              "      <th>Windspeed</th>\n",
              "      <th>is_fire</th>\n",
              "      <th>Date</th>\n",
              "    </tr>\n",
              "  </thead>\n",
              "  <tbody>\n",
              "    <tr>\n",
              "      <th>0</th>\n",
              "      <td>31.390602</td>\n",
              "      <td>-4.254445</td>\n",
              "      <td>1139.0</td>\n",
              "      <td>23.055555</td>\n",
              "      <td>0.0</td>\n",
              "      <td>41.599998</td>\n",
              "      <td>6.200000</td>\n",
              "      <td>1.0</td>\n",
              "      <td>2015-05-28</td>\n",
              "    </tr>\n",
              "    <tr>\n",
              "      <th>1</th>\n",
              "      <td>33.832943</td>\n",
              "      <td>-5.188356</td>\n",
              "      <td>3223.0</td>\n",
              "      <td>7.333333</td>\n",
              "      <td>0.0</td>\n",
              "      <td>34.299999</td>\n",
              "      <td>5.400000</td>\n",
              "      <td>1.0</td>\n",
              "      <td>2017-12-05</td>\n",
              "    </tr>\n",
              "    <tr>\n",
              "      <th>2</th>\n",
              "      <td>35.385689</td>\n",
              "      <td>-5.684218</td>\n",
              "      <td>4987.0</td>\n",
              "      <td>18.055555</td>\n",
              "      <td>0.0</td>\n",
              "      <td>54.099998</td>\n",
              "      <td>21.299999</td>\n",
              "      <td>1.0</td>\n",
              "      <td>2021-11-19</td>\n",
              "    </tr>\n",
              "    <tr>\n",
              "      <th>3</th>\n",
              "      <td>30.122351</td>\n",
              "      <td>-7.498038</td>\n",
              "      <td>991.0</td>\n",
              "      <td>24.555553</td>\n",
              "      <td>0.0</td>\n",
              "      <td>23.799999</td>\n",
              "      <td>3.500000</td>\n",
              "      <td>0.0</td>\n",
              "      <td>2014-04-19</td>\n",
              "    </tr>\n",
              "    <tr>\n",
              "      <th>4</th>\n",
              "      <td>30.221554</td>\n",
              "      <td>-9.154314</td>\n",
              "      <td>2171.0</td>\n",
              "      <td>25.888889</td>\n",
              "      <td>0.0</td>\n",
              "      <td>46.299999</td>\n",
              "      <td>8.100000</td>\n",
              "      <td>1.0</td>\n",
              "      <td>2014-04-11</td>\n",
              "    </tr>\n",
              "    <tr>\n",
              "      <th>5</th>\n",
              "      <td>34.498917</td>\n",
              "      <td>-2.332624</td>\n",
              "      <td>1604.0</td>\n",
              "      <td>17.666666</td>\n",
              "      <td>0.0</td>\n",
              "      <td>54.000000</td>\n",
              "      <td>4.700000</td>\n",
              "      <td>0.0</td>\n",
              "      <td>2022-11-11</td>\n",
              "    </tr>\n",
              "    <tr>\n",
              "      <th>6</th>\n",
              "      <td>35.522633</td>\n",
              "      <td>-5.526712</td>\n",
              "      <td>5696.0</td>\n",
              "      <td>29.444445</td>\n",
              "      <td>0.0</td>\n",
              "      <td>52.099998</td>\n",
              "      <td>12.200000</td>\n",
              "      <td>1.0</td>\n",
              "      <td>2019-08-20</td>\n",
              "    </tr>\n",
              "    <tr>\n",
              "      <th>7</th>\n",
              "      <td>32.087673</td>\n",
              "      <td>-8.773463</td>\n",
              "      <td>1674.0</td>\n",
              "      <td>21.277779</td>\n",
              "      <td>0.0</td>\n",
              "      <td>58.500000</td>\n",
              "      <td>6.600000</td>\n",
              "      <td>0.0</td>\n",
              "      <td>2020-11-02</td>\n",
              "    </tr>\n",
              "    <tr>\n",
              "      <th>8</th>\n",
              "      <td>32.540138</td>\n",
              "      <td>-6.300411</td>\n",
              "      <td>2536.0</td>\n",
              "      <td>23.444443</td>\n",
              "      <td>0.0</td>\n",
              "      <td>58.099998</td>\n",
              "      <td>5.000000</td>\n",
              "      <td>1.0</td>\n",
              "      <td>2014-09-23</td>\n",
              "    </tr>\n",
              "    <tr>\n",
              "      <th>9</th>\n",
              "      <td>32.931473</td>\n",
              "      <td>-3.967042</td>\n",
              "      <td>1240.0</td>\n",
              "      <td>13.611111</td>\n",
              "      <td>0.0</td>\n",
              "      <td>30.700001</td>\n",
              "      <td>12.600000</td>\n",
              "      <td>0.0</td>\n",
              "      <td>2016-03-20</td>\n",
              "    </tr>\n",
              "  </tbody>\n",
              "</table>\n",
              "</div>\n",
              "    <div class=\"colab-df-buttons\">\n",
              "\n",
              "  <div class=\"colab-df-container\">\n",
              "    <button class=\"colab-df-convert\" onclick=\"convertToInteractive('df-38e3e215-3bfb-4a81-bd26-be820d18bf4b')\"\n",
              "            title=\"Convert this dataframe to an interactive table.\"\n",
              "            style=\"display:none;\">\n",
              "\n",
              "  <svg xmlns=\"http://www.w3.org/2000/svg\" height=\"24px\" viewBox=\"0 -960 960 960\">\n",
              "    <path d=\"M120-120v-720h720v720H120Zm60-500h600v-160H180v160Zm220 220h160v-160H400v160Zm0 220h160v-160H400v160ZM180-400h160v-160H180v160Zm440 0h160v-160H620v160ZM180-180h160v-160H180v160Zm440 0h160v-160H620v160Z\"/>\n",
              "  </svg>\n",
              "    </button>\n",
              "\n",
              "  <style>\n",
              "    .colab-df-container {\n",
              "      display:flex;\n",
              "      gap: 12px;\n",
              "    }\n",
              "\n",
              "    .colab-df-convert {\n",
              "      background-color: #E8F0FE;\n",
              "      border: none;\n",
              "      border-radius: 50%;\n",
              "      cursor: pointer;\n",
              "      display: none;\n",
              "      fill: #1967D2;\n",
              "      height: 32px;\n",
              "      padding: 0 0 0 0;\n",
              "      width: 32px;\n",
              "    }\n",
              "\n",
              "    .colab-df-convert:hover {\n",
              "      background-color: #E2EBFA;\n",
              "      box-shadow: 0px 1px 2px rgba(60, 64, 67, 0.3), 0px 1px 3px 1px rgba(60, 64, 67, 0.15);\n",
              "      fill: #174EA6;\n",
              "    }\n",
              "\n",
              "    .colab-df-buttons div {\n",
              "      margin-bottom: 4px;\n",
              "    }\n",
              "\n",
              "    [theme=dark] .colab-df-convert {\n",
              "      background-color: #3B4455;\n",
              "      fill: #D2E3FC;\n",
              "    }\n",
              "\n",
              "    [theme=dark] .colab-df-convert:hover {\n",
              "      background-color: #434B5C;\n",
              "      box-shadow: 0px 1px 3px 1px rgba(0, 0, 0, 0.15);\n",
              "      filter: drop-shadow(0px 1px 2px rgba(0, 0, 0, 0.3));\n",
              "      fill: #FFFFFF;\n",
              "    }\n",
              "  </style>\n",
              "\n",
              "    <script>\n",
              "      const buttonEl =\n",
              "        document.querySelector('#df-38e3e215-3bfb-4a81-bd26-be820d18bf4b button.colab-df-convert');\n",
              "      buttonEl.style.display =\n",
              "        google.colab.kernel.accessAllowed ? 'block' : 'none';\n",
              "\n",
              "      async function convertToInteractive(key) {\n",
              "        const element = document.querySelector('#df-38e3e215-3bfb-4a81-bd26-be820d18bf4b');\n",
              "        const dataTable =\n",
              "          await google.colab.kernel.invokeFunction('convertToInteractive',\n",
              "                                                    [key], {});\n",
              "        if (!dataTable) return;\n",
              "\n",
              "        const docLinkHtml = 'Like what you see? Visit the ' +\n",
              "          '<a target=\"_blank\" href=https://colab.research.google.com/notebooks/data_table.ipynb>data table notebook</a>'\n",
              "          + ' to learn more about interactive tables.';\n",
              "        element.innerHTML = '';\n",
              "        dataTable['output_type'] = 'display_data';\n",
              "        await google.colab.output.renderOutput(dataTable, element);\n",
              "        const docLink = document.createElement('div');\n",
              "        docLink.innerHTML = docLinkHtml;\n",
              "        element.appendChild(docLink);\n",
              "      }\n",
              "    </script>\n",
              "  </div>\n",
              "\n",
              "\n",
              "    <div id=\"df-bc09f93e-0ebd-46cb-984d-a2c321401153\">\n",
              "      <button class=\"colab-df-quickchart\" onclick=\"quickchart('df-bc09f93e-0ebd-46cb-984d-a2c321401153')\"\n",
              "                title=\"Suggest charts\"\n",
              "                style=\"display:none;\">\n",
              "\n",
              "<svg xmlns=\"http://www.w3.org/2000/svg\" height=\"24px\"viewBox=\"0 0 24 24\"\n",
              "     width=\"24px\">\n",
              "    <g>\n",
              "        <path d=\"M19 3H5c-1.1 0-2 .9-2 2v14c0 1.1.9 2 2 2h14c1.1 0 2-.9 2-2V5c0-1.1-.9-2-2-2zM9 17H7v-7h2v7zm4 0h-2V7h2v10zm4 0h-2v-4h2v4z\"/>\n",
              "    </g>\n",
              "</svg>\n",
              "      </button>\n",
              "\n",
              "<style>\n",
              "  .colab-df-quickchart {\n",
              "      --bg-color: #E8F0FE;\n",
              "      --fill-color: #1967D2;\n",
              "      --hover-bg-color: #E2EBFA;\n",
              "      --hover-fill-color: #174EA6;\n",
              "      --disabled-fill-color: #AAA;\n",
              "      --disabled-bg-color: #DDD;\n",
              "  }\n",
              "\n",
              "  [theme=dark] .colab-df-quickchart {\n",
              "      --bg-color: #3B4455;\n",
              "      --fill-color: #D2E3FC;\n",
              "      --hover-bg-color: #434B5C;\n",
              "      --hover-fill-color: #FFFFFF;\n",
              "      --disabled-bg-color: #3B4455;\n",
              "      --disabled-fill-color: #666;\n",
              "  }\n",
              "\n",
              "  .colab-df-quickchart {\n",
              "    background-color: var(--bg-color);\n",
              "    border: none;\n",
              "    border-radius: 50%;\n",
              "    cursor: pointer;\n",
              "    display: none;\n",
              "    fill: var(--fill-color);\n",
              "    height: 32px;\n",
              "    padding: 0;\n",
              "    width: 32px;\n",
              "  }\n",
              "\n",
              "  .colab-df-quickchart:hover {\n",
              "    background-color: var(--hover-bg-color);\n",
              "    box-shadow: 0 1px 2px rgba(60, 64, 67, 0.3), 0 1px 3px 1px rgba(60, 64, 67, 0.15);\n",
              "    fill: var(--button-hover-fill-color);\n",
              "  }\n",
              "\n",
              "  .colab-df-quickchart-complete:disabled,\n",
              "  .colab-df-quickchart-complete:disabled:hover {\n",
              "    background-color: var(--disabled-bg-color);\n",
              "    fill: var(--disabled-fill-color);\n",
              "    box-shadow: none;\n",
              "  }\n",
              "\n",
              "  .colab-df-spinner {\n",
              "    border: 2px solid var(--fill-color);\n",
              "    border-color: transparent;\n",
              "    border-bottom-color: var(--fill-color);\n",
              "    animation:\n",
              "      spin 1s steps(1) infinite;\n",
              "  }\n",
              "\n",
              "  @keyframes spin {\n",
              "    0% {\n",
              "      border-color: transparent;\n",
              "      border-bottom-color: var(--fill-color);\n",
              "      border-left-color: var(--fill-color);\n",
              "    }\n",
              "    20% {\n",
              "      border-color: transparent;\n",
              "      border-left-color: var(--fill-color);\n",
              "      border-top-color: var(--fill-color);\n",
              "    }\n",
              "    30% {\n",
              "      border-color: transparent;\n",
              "      border-left-color: var(--fill-color);\n",
              "      border-top-color: var(--fill-color);\n",
              "      border-right-color: var(--fill-color);\n",
              "    }\n",
              "    40% {\n",
              "      border-color: transparent;\n",
              "      border-right-color: var(--fill-color);\n",
              "      border-top-color: var(--fill-color);\n",
              "    }\n",
              "    60% {\n",
              "      border-color: transparent;\n",
              "      border-right-color: var(--fill-color);\n",
              "    }\n",
              "    80% {\n",
              "      border-color: transparent;\n",
              "      border-right-color: var(--fill-color);\n",
              "      border-bottom-color: var(--fill-color);\n",
              "    }\n",
              "    90% {\n",
              "      border-color: transparent;\n",
              "      border-bottom-color: var(--fill-color);\n",
              "    }\n",
              "  }\n",
              "</style>\n",
              "\n",
              "      <script>\n",
              "        async function quickchart(key) {\n",
              "          const quickchartButtonEl =\n",
              "            document.querySelector('#' + key + ' button');\n",
              "          quickchartButtonEl.disabled = true;  // To prevent multiple clicks.\n",
              "          quickchartButtonEl.classList.add('colab-df-spinner');\n",
              "          try {\n",
              "            const charts = await google.colab.kernel.invokeFunction(\n",
              "                'suggestCharts', [key], {});\n",
              "          } catch (error) {\n",
              "            console.error('Error during call to suggestCharts:', error);\n",
              "          }\n",
              "          quickchartButtonEl.classList.remove('colab-df-spinner');\n",
              "          quickchartButtonEl.classList.add('colab-df-quickchart-complete');\n",
              "        }\n",
              "        (() => {\n",
              "          let quickchartButtonEl =\n",
              "            document.querySelector('#df-bc09f93e-0ebd-46cb-984d-a2c321401153 button');\n",
              "          quickchartButtonEl.style.display =\n",
              "            google.colab.kernel.accessAllowed ? 'block' : 'none';\n",
              "        })();\n",
              "      </script>\n",
              "    </div>\n",
              "\n",
              "    </div>\n",
              "  </div>\n"
            ],
            "application/vnd.google.colaboratory.intrinsic+json": {
              "type": "dataframe",
              "variable_name": "df",
              "summary": "{\n  \"name\": \"df\",\n  \"rows\": 20000,\n  \"fields\": [\n    {\n      \"column\": \"latitude\",\n      \"properties\": {\n        \"dtype\": \"float32\",\n        \"num_unique_values\": 19111,\n        \"samples\": [\n          35.71829605102539,\n          33.18091583251953,\n          33.36991882324219\n        ],\n        \"semantic_type\": \"\",\n        \"description\": \"\"\n      }\n    },\n    {\n      \"column\": \"longitude\",\n      \"properties\": {\n        \"dtype\": \"float32\",\n        \"num_unique_values\": 19909,\n        \"samples\": [\n          -5.903376579284668,\n          -2.3490066528320312,\n          -1.97831392288208\n        ],\n        \"semantic_type\": \"\",\n        \"description\": \"\"\n      }\n    },\n    {\n      \"column\": \"NDVI\",\n      \"properties\": {\n        \"dtype\": \"float32\",\n        \"num_unique_values\": 4293,\n        \"samples\": [\n          4151.0,\n          3824.0,\n          2375.0\n        ],\n        \"semantic_type\": \"\",\n        \"description\": \"\"\n      }\n    },\n    {\n      \"column\": \"Temperature\",\n      \"properties\": {\n        \"dtype\": \"float32\",\n        \"num_unique_values\": 629,\n        \"samples\": [\n          6.444443702697754,\n          30.72222137451172,\n          32.61111068725586\n        ],\n        \"semantic_type\": \"\",\n        \"description\": \"\"\n      }\n    },\n    {\n      \"column\": \"Precipitation\",\n      \"properties\": {\n        \"dtype\": \"float32\",\n        \"num_unique_values\": 99,\n        \"samples\": [\n          1.0099999904632568,\n          1.8899999856948853,\n          0.25\n        ],\n        \"semantic_type\": \"\",\n        \"description\": \"\"\n      }\n    },\n    {\n      \"column\": \"Humidity\",\n      \"properties\": {\n        \"dtype\": \"float32\",\n        \"num_unique_values\": 671,\n        \"samples\": [\n          42.70000076293945,\n          60.70000076293945,\n          37.0\n        ],\n        \"semantic_type\": \"\",\n        \"description\": \"\"\n      }\n    },\n    {\n      \"column\": \"Windspeed\",\n      \"properties\": {\n        \"dtype\": \"float32\",\n        \"num_unique_values\": 251,\n        \"samples\": [\n          11.899999618530273,\n          12.199999809265137,\n          20.399999618530273\n        ],\n        \"semantic_type\": \"\",\n        \"description\": \"\"\n      }\n    },\n    {\n      \"column\": \"is_fire\",\n      \"properties\": {\n        \"dtype\": \"float32\",\n        \"num_unique_values\": 2,\n        \"samples\": [\n          0.0,\n          1.0\n        ],\n        \"semantic_type\": \"\",\n        \"description\": \"\"\n      }\n    },\n    {\n      \"column\": \"Date\",\n      \"properties\": {\n        \"dtype\": \"date\",\n        \"min\": \"2013-01-31 00:00:00\",\n        \"max\": \"2022-12-23 00:00:00\",\n        \"num_unique_values\": 3439,\n        \"samples\": [\n          \"2019-11-20 00:00:00\",\n          \"2020-01-24 00:00:00\"\n        ],\n        \"semantic_type\": \"\",\n        \"description\": \"\"\n      }\n    }\n  ]\n}"
            }
          },
          "metadata": {},
          "execution_count": 42
        }
      ],
      "source": [
        "df.head(10)"
      ]
    },
    {
      "cell_type": "code",
      "execution_count": 43,
      "metadata": {
        "colab": {
          "base_uri": "https://localhost:8080/"
        },
        "id": "rHMnrNIsXveu",
        "outputId": "312bc07f-26d5-40c9-b419-1bd5c0ac3042"
      },
      "outputs": [
        {
          "output_type": "stream",
          "name": "stdout",
          "text": [
            "    latitude  longitude    NDVI  Temperature  Precipitation   Humidity  \\\n",
            "0  31.390602  -4.254445  1139.0    23.055555            0.0  41.599998   \n",
            "1  33.832943  -5.188356  3223.0     7.333333            0.0  34.299999   \n",
            "2  35.385689  -5.684218  4987.0    18.055555            0.0  54.099998   \n",
            "3  30.122351  -7.498038   991.0    24.555553            0.0  23.799999   \n",
            "4  30.221554  -9.154314  2171.0    25.888889            0.0  46.299999   \n",
            "\n",
            "   Windspeed  is_fire  Year  Month  Day  \n",
            "0   6.200000      1.0  2015      5   28  \n",
            "1   5.400000      1.0  2017     12    5  \n",
            "2  21.299999      1.0  2021     11   19  \n",
            "3   3.500000      0.0  2014      4   19  \n",
            "4   8.100000      1.0  2014      4   11  \n"
          ]
        }
      ],
      "source": [
        "#Datetime to int\n",
        "df['Date'] = pd.to_datetime(df['Date'])\n",
        "\n",
        "df['Year'] = df['Date'].dt.year\n",
        "df['Month'] = df['Date'].dt.month\n",
        "df['Day'] = df['Date'].dt.day\n",
        "\n",
        "df = df.drop('Date', axis=1)\n",
        "\n",
        "print(df.head())"
      ]
    },
    {
      "cell_type": "code",
      "source": [
        "print(df.describe())"
      ],
      "metadata": {
        "colab": {
          "base_uri": "https://localhost:8080/"
        },
        "id": "nC81i91rtgfj",
        "outputId": "5e4b3cc4-3a37-484d-d1cd-71c6e6080878"
      },
      "execution_count": 44,
      "outputs": [
        {
          "output_type": "stream",
          "name": "stdout",
          "text": [
            "           latitude     longitude          NDVI   Temperature  Precipitation  \\\n",
            "count  20000.000000  20000.000000  20000.000000  20000.000000   20000.000000   \n",
            "mean      32.772984     -6.085638   2642.974609     21.201656       0.990948   \n",
            "std        2.313721      2.407105   1556.916870      6.609658       9.824984   \n",
            "min       27.085873    -12.015475    -10.000000     -1.166667       0.000000   \n",
            "25%       31.420129     -7.750529   1311.000000     16.263889       0.000000   \n",
            "50%       33.368420     -5.644415   2244.000000     21.277779       0.000000   \n",
            "75%       34.638043     -4.518609   3613.250000     25.666664       0.000000   \n",
            "max       35.912964     -1.681020   7887.000000     42.944443      99.989998   \n",
            "\n",
            "           Humidity     Windspeed       is_fire          Year         Month  \\\n",
            "count  20000.000000  20000.000000  20000.000000  20000.000000  20000.000000   \n",
            "mean     230.352646      7.154240      0.502300   2017.562300      6.901150   \n",
            "std     1332.099854     17.573288      0.500003      2.766496      3.093535   \n",
            "min       -5.200000      0.000000      0.000000   2013.000000      1.000000   \n",
            "25%       41.799999      4.500000      0.000000   2015.000000      5.000000   \n",
            "50%       51.200001      6.000000      1.000000   2018.000000      7.000000   \n",
            "75%       58.799999      8.100000      1.000000   2020.000000      9.000000   \n",
            "max     9999.900391    999.900024      1.000000   2022.000000     12.000000   \n",
            "\n",
            "                Day  \n",
            "count  20000.000000  \n",
            "mean      15.569400  \n",
            "std        8.852796  \n",
            "min        1.000000  \n",
            "25%        8.000000  \n",
            "50%       15.000000  \n",
            "75%       23.000000  \n",
            "max       31.000000  \n"
          ]
        }
      ]
    },
    {
      "cell_type": "markdown",
      "metadata": {
        "id": "4pYqW1qXYOGX"
      },
      "source": [
        "##Train Data"
      ]
    },
    {
      "cell_type": "code",
      "execution_count": 45,
      "metadata": {
        "colab": {
          "base_uri": "https://localhost:8080/"
        },
        "id": "ZVOxCO9CX1_I",
        "outputId": "4d0d9510-6206-4cf1-e5fb-dea8b7ab03b6"
      },
      "outputs": [
        {
          "output_type": "stream",
          "name": "stdout",
          "text": [
            "Train set shape: (14000, 10) (14000,)\n",
            "Validation set shape: (3000, 10) (3000,)\n",
            "Test set shape: (3000, 10) (3000,)\n"
          ]
        }
      ],
      "source": [
        "from sklearn.model_selection import train_test_split\n",
        "\n",
        "X = df.drop('is_fire', axis=1)\n",
        "y = df['is_fire']\n",
        "#70:15:15\n",
        "X_train, X_temp, y_train, y_temp = train_test_split(X, y, test_size=0.3, random_state=42)\n",
        "X_val, X_test, y_val, y_test = train_test_split(X_temp, y_temp, test_size=0.5, random_state=42)\n",
        "\n",
        "print(\"Train set shape:\", X_train.shape, y_train.shape)\n",
        "print(\"Validation set shape:\", X_val.shape, y_val.shape)\n",
        "print(\"Test set shape:\", X_test.shape, y_test.shape)"
      ]
    },
    {
      "cell_type": "markdown",
      "source": [
        "##Validate"
      ],
      "metadata": {
        "id": "xQGH3bLcAlUJ"
      }
    },
    {
      "cell_type": "code",
      "execution_count": 46,
      "metadata": {
        "colab": {
          "base_uri": "https://localhost:8080/"
        },
        "id": "17lnK3fXX5qB",
        "outputId": "fe08783d-6eb2-4307-b7c9-491f62dd2b59"
      },
      "outputs": [
        {
          "output_type": "stream",
          "name": "stdout",
          "text": [
            "Validation Accuracy: 0.929\n",
            "[[1372  133]\n",
            " [  83 1412]]\n",
            "              precision    recall  f1-score   support\n",
            "\n",
            "         0.0       0.94      0.91      0.93      1505\n",
            "         1.0       0.91      0.94      0.93      1495\n",
            "\n",
            "    accuracy                           0.93      3000\n",
            "   macro avg       0.93      0.93      0.93      3000\n",
            "weighted avg       0.93      0.93      0.93      3000\n",
            "\n"
          ]
        }
      ],
      "source": [
        "from sklearn.ensemble import RandomForestClassifier\n",
        "from sklearn.metrics import accuracy_score, confusion_matrix, classification_report\n",
        "\n",
        "model = RandomForestClassifier(random_state=42)\n",
        "model.fit(X_train, y_train)\n",
        "\n",
        "y_pred = model.predict(X_val)\n",
        "\n",
        "accuracy = accuracy_score(y_val, y_pred)\n",
        "print(f\"Validation Accuracy: {accuracy}\")\n",
        "\n",
        "y_test_pred = model.predict(X_test)\n",
        "\n",
        "print(confusion_matrix(y_test, y_test_pred))\n",
        "print(classification_report(y_test, y_test_pred))"
      ]
    },
    {
      "cell_type": "code",
      "execution_count": 47,
      "metadata": {
        "id": "EYGzISRhX_E1",
        "colab": {
          "base_uri": "https://localhost:8080/",
          "height": 564
        },
        "outputId": "74fe54d0-faae-4ea9-9cf6-4db737768a21"
      },
      "outputs": [
        {
          "output_type": "display_data",
          "data": {
            "text/plain": [
              "<Figure size 800x600 with 2 Axes>"
            ],
            "image/png": "[encoded data removed]"
          },
          "metadata": {}
        }
      ],
      "source": [
        "#Confusion Matrix\n",
        "from sklearn.metrics import confusion_matrix\n",
        "import seaborn as sns\n",
        "import matplotlib.pyplot as plt\n",
        "\n",
        "cm = confusion_matrix(y_val, y_pred)\n",
        "\n",
        "plt.figure(figsize=(8, 6))\n",
        "sns.heatmap(cm, annot=True, fmt=\"d\", cmap=\"Blues\",\n",
        "            xticklabels=['No Fire', 'Fire'], yticklabels=['No Fire', 'Fire'])\n",
        "plt.xlabel(\"Predicted\")\n",
        "plt.ylabel(\"Actual\")\n",
        "plt.title(\"Confusion Matrix\")\n",
        "plt.show()"
      ]
    },
    {
      "cell_type": "code",
      "execution_count": 48,
      "metadata": {
        "id": "zVn3m_fOTPO4",
        "colab": {
          "base_uri": "https://localhost:8080/",
          "height": 619
        },
        "outputId": "0a82fd9e-3546-4c8d-e031-ec2fc9040787"
      },
      "outputs": [
        {
          "output_type": "display_data",
          "data": {
            "text/plain": [
              "<Figure size 1000x600 with 2 Axes>"
            ],
            "image/png": "[encoded data removed]"
          },
          "metadata": {}
        }
      ],
      "source": [
        "#Correlation & heat map\n",
        "import seaborn as sns\n",
        "import matplotlib.pyplot as plt\n",
        "\n",
        "plt.figure(figsize=(10, 6))\n",
        "sns.heatmap(df.corr(), annot=True, cmap='coolwarm')\n",
        "plt.title(\"Feature Correlation\")\n",
        "plt.show()"
      ]
    },
    {
      "cell_type": "code",
      "execution_count": 49,
      "metadata": {
        "id": "jV7XGSuEUCF0",
        "colab": {
          "base_uri": "https://localhost:8080/"
        },
        "outputId": "cf464f2d-5203-4b9d-9781-edf70df0e6ca"
      },
      "outputs": [
        {
          "output_type": "stream",
          "name": "stdout",
          "text": [
            "Features most positively related to wildfire:\n",
            "latitude       0.548495\n",
            "NDVI           0.425672\n",
            "longitude      0.291265\n",
            "Temperature    0.128878\n",
            "Humidity       0.127225\n",
            "Name: is_fire, dtype: float64\n",
            "\n",
            "Features most negatively related to wildfire:\n",
            "Month            0.091971\n",
            "Day             -0.002352\n",
            "Windspeed       -0.017637\n",
            "Precipitation   -0.035004\n",
            "Year            -0.065459\n",
            "Name: is_fire, dtype: float64\n"
          ]
        }
      ],
      "source": [
        "correlations = df.corr()[\"is_fire\"].drop(\"is_fire\").sort_values(ascending=False)\n",
        "\n",
        "print(\"Features most positively related to wildfire:\")\n",
        "print(correlations.head())\n",
        "\n",
        "print(\"\\nFeatures most negatively related to wildfire:\")\n",
        "print(correlations.tail())"
      ]
    },
    {
      "cell_type": "code",
      "source": [
        "df.to_csv('processed_data.csv', index=False)"
      ],
      "metadata": {
        "id": "x-kRpfSIQTDy"
      },
      "execution_count": 65,
      "outputs": []
    },
    {
      "cell_type": "markdown",
      "source": [
        "#Satellite Images"
      ],
      "metadata": {
        "id": "x3SoTCWvBIih"
      }
    },
    {
      "cell_type": "code",
      "execution_count": 51,
      "metadata": {
        "id": "OXa03G4lYE2J",
        "colab": {
          "base_uri": "https://localhost:8080/"
        },
        "outputId": "e8ca5338-1a85-4913-afb1-21244396bfd5"
      },
      "outputs": [
        {
          "output_type": "stream",
          "name": "stdout",
          "text": [
            "fatal: destination path 'Wildfire-prediction' already exists and is not an empty directory.\n"
          ]
        }
      ],
      "source": [
        "#Load Data\n",
        "!git clone https://github.com/opjns/Wildfire-prediction.git"
      ]
    },
    {
      "cell_type": "code",
      "execution_count": 52,
      "metadata": {
        "id": "IL2R7KLaYH4W",
        "colab": {
          "base_uri": "https://localhost:8080/"
        },
        "outputId": "691a743d-0639-4a3f-bb2c-9cc3c2fbce20"
      },
      "outputs": [
        {
          "output_type": "stream",
          "name": "stdout",
          "text": [
            "Sample images:\n",
            "['Wildfire', 'No Fire']\n"
          ]
        }
      ],
      "source": [
        "import os\n",
        "\n",
        "image_dir = \"/content/Wildfire-prediction/Images/Train\"\n",
        "\n",
        "print(\"Sample images:\")\n",
        "print(os.listdir(image_dir)[:5])"
      ]
    },
    {
      "cell_type": "markdown",
      "source": [
        "##Train"
      ],
      "metadata": {
        "id": "208LAWlOBW2U"
      }
    },
    {
      "cell_type": "code",
      "execution_count": 53,
      "metadata": {
        "id": "wmM7WYZCYK7d",
        "colab": {
          "base_uri": "https://localhost:8080/"
        },
        "outputId": "c3ed2b8f-1fa2-48e7-8011-8d2f5cee5611"
      },
      "outputs": [
        {
          "output_type": "stream",
          "name": "stdout",
          "text": [
            "Classes: ['No Fire', 'Wildfire']\n"
          ]
        }
      ],
      "source": [
        "import torch\n",
        "from torchvision import datasets, transforms\n",
        "from torch.utils.data import DataLoader\n",
        "\n",
        "transform = transforms.Compose([\n",
        "    transforms.Resize((224, 224)),\n",
        "    transforms.ToTensor()\n",
        "])\n",
        "\n",
        "dataset = datasets.ImageFolder(root=image_dir, transform=transform)\n",
        "\n",
        "data_loader = DataLoader(dataset, batch_size=32, shuffle=True)\n",
        "\n",
        "print(\"Classes:\", dataset.classes)"
      ]
    },
    {
      "cell_type": "code",
      "execution_count": 54,
      "metadata": {
        "id": "HOG48jWUYQ9J"
      },
      "outputs": [],
      "source": [
        "import torch.nn as nn\n",
        "import torch.nn.functional as F\n",
        "\n",
        "class SimpleCNN(nn.Module):\n",
        "    def __init__(self):\n",
        "        super().__init__()\n",
        "        self.conv1 = nn.Conv2d(3, 16, 3)\n",
        "        self.pool = nn.MaxPool2d(2)\n",
        "        self.fc1 = nn.Linear(16 * 111 * 111, 2)\n",
        "\n",
        "    def forward(self, x):\n",
        "        x = self.pool(F.relu(self.conv1(x)))\n",
        "        x = x.view(-1, 16 * 111 * 111)\n",
        "        x = self.fc1(x)\n",
        "        return x\n",
        "\n",
        "model = SimpleCNN()"
      ]
    },
    {
      "cell_type": "code",
      "execution_count": 55,
      "metadata": {
        "id": "muvk8KFqZEyM",
        "colab": {
          "base_uri": "https://localhost:8080/"
        },
        "outputId": "56d6467a-8f49-4680-a27c-19d77ed23df0"
      },
      "outputs": [
        {
          "output_type": "stream",
          "name": "stdout",
          "text": [
            "Epoch [1/10] Loss: 11.160 | Accuracy: 77.34%\n",
            "Epoch [2/10] Loss: 3.561 | Accuracy: 93.84%\n",
            "Epoch [3/10] Loss: 2.384 | Accuracy: 95.32%\n",
            "Epoch [4/10] Loss: 0.860 | Accuracy: 97.29%\n",
            "Epoch [5/10] Loss: 0.596 | Accuracy: 98.52%\n",
            "Epoch [6/10] Loss: 0.549 | Accuracy: 99.01%\n",
            "Epoch [7/10] Loss: 0.277 | Accuracy: 99.01%\n",
            "Epoch [8/10] Loss: 0.281 | Accuracy: 99.26%\n",
            "Epoch [9/10] Loss: 0.351 | Accuracy: 98.52%\n",
            "Epoch [10/10] Loss: 0.477 | Accuracy: 98.03%\n"
          ]
        }
      ],
      "source": [
        "import torch.optim as optim\n",
        "\n",
        "# Use GPU\n",
        "device = torch.device(\"cuda\" if torch.cuda.is_available() else \"cpu\")\n",
        "model = model.to(device)\n",
        "\n",
        "# Loss and optimizer\n",
        "criterion = nn.CrossEntropyLoss()\n",
        "optimizer = optim.Adam(model.parameters(), lr=0.001)\n",
        "\n",
        "# Training loop\n",
        "epochs = 10\n",
        "for epoch in range(epochs):\n",
        "    running_loss = 0.0\n",
        "    correct = 0\n",
        "    total = 0\n",
        "\n",
        "    for images, labels in data_loader:\n",
        "        images, labels = images.to(device), labels.to(device)\n",
        "\n",
        "        # Forward + backward + optimize\n",
        "        outputs = model(images)\n",
        "        loss = criterion(outputs, labels)\n",
        "\n",
        "        optimizer.zero_grad()\n",
        "        loss.backward()\n",
        "        optimizer.step()\n",
        "\n",
        "        # Statistics\n",
        "        running_loss += loss.item()\n",
        "        _, predicted = torch.max(outputs, 1)\n",
        "        total += labels.size(0)\n",
        "        correct += (predicted == labels).sum().item()\n",
        "\n",
        "    acc = 100 * correct / total\n",
        "    print(f\"Epoch [{epoch+1}/{epochs}] Loss: {running_loss:.3f} | Accuracy: {acc:.2f}%\")"
      ]
    },
    {
      "cell_type": "markdown",
      "source": [
        "##Validate"
      ],
      "metadata": {
        "id": "f6_NgGRsBktA"
      }
    },
    {
      "cell_type": "code",
      "execution_count": 56,
      "metadata": {
        "id": "xhDE9VK-Z17z"
      },
      "outputs": [],
      "source": [
        "from torchvision import datasets, transforms\n",
        "from torch.utils.data import DataLoader\n",
        "\n",
        "valid_dir = \"/content/Wildfire-prediction/Images/Valid\"\n",
        "\n",
        "transform = transforms.Compose([\n",
        "    transforms.Resize((224, 224)),\n",
        "    transforms.ToTensor()\n",
        "])\n",
        "\n",
        "valid_dataset = datasets.ImageFolder(root=valid_dir, transform=transform)\n",
        "valid_loader = DataLoader(valid_dataset, batch_size=32, shuffle=False)"
      ]
    },
    {
      "cell_type": "code",
      "execution_count": 57,
      "metadata": {
        "id": "OxVqkQStZ82M",
        "colab": {
          "base_uri": "https://localhost:8080/"
        },
        "outputId": "672a5a52-3c61-4383-fe09-b511bb1a02c8"
      },
      "outputs": [
        {
          "output_type": "stream",
          "name": "stdout",
          "text": [
            "Validation Accuracy: 86.21%\n"
          ]
        }
      ],
      "source": [
        "import torch\n",
        "\n",
        "model.eval()\n",
        "correct = 0\n",
        "total = 0\n",
        "\n",
        "with torch.no_grad():\n",
        "    for images, labels in valid_loader:\n",
        "        images, labels = images.to(device), labels.to(device)\n",
        "        outputs = model(images)\n",
        "        _, predicted = torch.max(outputs, 1)\n",
        "        total += labels.size(0)\n",
        "        correct += (predicted == labels).sum().item()\n",
        "\n",
        "val_accuracy = 100 * correct / total\n",
        "print(f\"Validation Accuracy: {val_accuracy:.2f}%\")"
      ]
    },
    {
      "cell_type": "code",
      "execution_count": 58,
      "metadata": {
        "id": "nnqgMtbKR4Wq",
        "colab": {
          "base_uri": "https://localhost:8080/",
          "height": 564
        },
        "outputId": "e288bc90-5c49-4948-e1b9-909d873520ab"
      },
      "outputs": [
        {
          "output_type": "display_data",
          "data": {
            "text/plain": [
              "<Figure size 800x600 with 2 Axes>"
            ],
            "image/png": "[encoded data removed]"
          },
          "metadata": {}
        }
      ],
      "source": [
        "import matplotlib.pyplot as plt\n",
        "model.eval()\n",
        "y_pred_cnn_list = []\n",
        "y_true_cnn_list = []\n",
        "\n",
        "with torch.no_grad():\n",
        "    for images, labels in valid_loader:\n",
        "        images, labels = images.to(device), labels.to(device)\n",
        "        outputs = model(images)\n",
        "        _, predicted = torch.max(outputs, 1)\n",
        "        y_pred_cnn_list.extend(predicted.cpu().numpy())\n",
        "        y_true_cnn_list.extend(labels.cpu().numpy())\n",
        "\n",
        "cm_cnn = confusion_matrix(y_true_cnn_list, y_pred_cnn_list)\n",
        "\n",
        "# Confusion matrix\n",
        "plt.figure(figsize=(8, 6))\n",
        "sns.heatmap(cm_cnn, annot=True, fmt=\"d\", cmap=\"Blues\",\n",
        "            xticklabels=valid_dataset.classes, yticklabels=valid_dataset.classes)\n",
        "plt.xlabel(\"Predicted\")\n",
        "plt.ylabel(\"Actual\")\n",
        "plt.title(\"CNN Confusion Matrix\")\n",
        "plt.show()\n"
      ]
    },
    {
      "cell_type": "markdown",
      "source": [
        "#Save and deploy model"
      ],
      "metadata": {
        "id": "ZcM6NO_HBppI"
      }
    },
    {
      "cell_type": "code",
      "execution_count": 59,
      "metadata": {
        "id": "vP4jvWRQTC-U",
        "colab": {
          "base_uri": "https://localhost:8080/"
        },
        "outputId": "331640bf-9558-45f1-cae5-b3561b32fe80"
      },
      "outputs": [
        {
          "output_type": "execute_result",
          "data": {
            "text/plain": [
              "['wildfire_model.py']"
            ]
          },
          "metadata": {},
          "execution_count": 59
        }
      ],
      "source": [
        "import joblib\n",
        "joblib.dump(model, 'wildfire_model.py')"
      ]
    },
    {
      "cell_type": "code",
      "execution_count": 64,
      "metadata": {
        "id": "4Yv6Iy56TwMM",
        "colab": {
          "base_uri": "https://localhost:8080/"
        },
        "outputId": "c55501cb-3e99-4731-9923-a521f7c0dcf7"
      },
      "outputs": [
        {
          "output_type": "stream",
          "name": "stdout",
          "text": [
            "Writing wildfire-prediction-app.py\n"
          ]
        }
      ],
      "source": [
        "%%writefile wildfire-prediction-app.py\n",
        "import streamlit as st\n",
        "import pandas as pd\n",
        "import numpy as np\n",
        "import torch\n",
        "import torch.nn as nn\n",
        "import torch.nn.functional as F\n",
        "from PIL import Image\n",
        "\n",
        "# Define model architecture\n",
        "class SimpleCNN(nn.Module):\n",
        "    def __init__(self):\n",
        "        super(SimpleCNN, self).__init__()\n",
        "        self.conv1 = nn.Conv2d(3, 16, 3, padding=1)\n",
        "        self.pool = nn.MaxPool2d(2, 2)\n",
        "        self.fc1 = nn.Linear(16 * 111 * 111, 2)\n",
        "\n",
        "    def forward(self, x):\n",
        "        x = self.pool(F.relu(self.conv1(x)))\n",
        "        x = x.view(-1, 16 * 111 * 111)\n",
        "        x = self.fc1(x)\n",
        "        return x\n",
        "\n",
        "# Load model weights\n",
        "model = SimpleCNN()\n",
        "model.load_state_dict(torch.load(\"model_weights.pth\", map_location=torch.device('cpu')))\n",
        "model.eval()\n",
        "\n",
        "# Streamlit app\n",
        "st.title(\"Wildfire Prediction App\")\n",
        "\n",
        "st.header(\"Enter Environmental Data\")\n",
        "lat = st.number_input(\"Latitude\")\n",
        "lon = st.number_input(\"Longitude\")\n",
        "ndvi = st.number_input(\"NDVI\")\n",
        "temp = st.number_input(\"Temperature (°C)\", -20.0, 60.0)\n",
        "precipitation = st.number_input(\"Precipitation (mm)\")\n",
        "humidity = st.number_input(\"Humidity (%)\", 0, 100)\n",
        "windspeed = st.number_input(\"Wind Speed (m/s)\")\n",
        "day = st.number_input(\"Day\", 1, 31, step=1)\n",
        "month = st.number_input(\"Month\", 1, 12, step=1)\n",
        "year = st.number_input(\"Year\")\n",
        "\n",
        "st.header(\"Upload Satellite Image\")\n",
        "image_file = st.file_uploader(\"Upload a satellite image\", type=[\"jpg\", \"jpeg\", \"png\"])\n",
        "\n",
        "if image_file and st.button(\"Predict Wildfire Risk\"):\n",
        "    image = Image.open(image_file).convert(\"RGB\")\n",
        "    image = image.resize((222, 222))\n",
        "    st.image(image, caption=\"Uploaded Image\", use_column_width=True)\n",
        "\n",
        "    image_array = np.array(image) / 255.0\n",
        "    image_tensor = torch.tensor(image_array).permute(2, 0, 1).unsqueeze(0).float()\n",
        "\n",
        "    # Predict\n",
        "    with torch.no_grad():\n",
        "        outputs = model(image_tensor)\n",
        "        probabilities = torch.softmax(outputs, dim=1).numpy()[0]\n",
        "        prediction = int(np.argmax(probabilities))\n",
        "        confidence = probabilities[prediction]\n",
        "\n",
        "if prediction == 1:\n",
        "  st.markdown(f\"### Prediction: **{' Wildfire Risk' if prediction == 1 else 'No Wildfire'}**\")\n",
        "  st.markdown(f\"### Confidence Level: **{confidence*100:.2f}%**\")\n",
        "\n",
        "if prediction == 1:\n",
        "  st.warning(\" **Safety Precautions**:\\n- Avoid open flames\\n- Report smoke or fire immediately\\n- Keep emergency supplies ready\\n- Stay updated with local alerts\\n- Prepare evacuation plans\")"
      ]
    },
    {
      "cell_type": "code",
      "source": [
        "import joblib\n",
        "model = joblib.load(\"wildfire_model.py\")\n",
        "joblib.dump(model, 'model.pkl')"
      ],
      "metadata": {
        "id": "KhLP7703HHre",
        "colab": {
          "base_uri": "https://localhost:8080/"
        },
        "outputId": "a502f61d-0d4c-482f-fd41-17c587e0d038"
      },
      "execution_count": 61,
      "outputs": [
        {
          "output_type": "execute_result",
          "data": {
            "text/plain": [
              "['model.pkl']"
            ]
          },
          "metadata": {},
          "execution_count": 61
        }
      ]
    },
    {
      "cell_type": "code",
      "source": [
        "torch.save(model.state_dict(), 'model_weights.pth')"
      ],
      "metadata": {
        "id": "vRM5qltseVM8"
      },
      "execution_count": 62,
      "outputs": []
    },
    {
      "cell_type": "code",
      "source": [
        "print(\"Features:\\n\", X_test[:5])\n",
        "print(\"Labels:\\n\", y_test[:5])"
      ],
      "metadata": {
        "id": "uSteXDj8hoNr",
        "colab": {
          "base_uri": "https://localhost:8080/"
        },
        "outputId": "0e94deb4-75a2-4e20-b1ca-f38ee41f0fef"
      },
      "execution_count": 63,
      "outputs": [
        {
          "output_type": "stream",
          "name": "stdout",
          "text": [
            "Features:\n",
            "         latitude  longitude    NDVI  Temperature  Precipitation   Humidity  \\\n",
            "5348   34.790142  -4.699377  3318.0    24.277777           0.00  63.900002   \n",
            "339    33.930038  -5.576526  3600.0    25.722223           0.00  51.099998   \n",
            "13591  30.959604  -6.287105  1050.0    26.611111           0.00  37.299999   \n",
            "8153   34.103878  -5.630750  2171.0    21.277779           0.00  59.000000   \n",
            "16345  33.709080  -5.805562  2544.0    10.222223           0.35  41.799999   \n",
            "\n",
            "       Windspeed  Year  Month  Day  \n",
            "5348         5.8  2017      9   25  \n",
            "339         12.2  2013      9    2  \n",
            "13591        5.2  2021      9   22  \n",
            "8153         4.1  2013      8   27  \n",
            "16345        6.0  2013     11   26  \n",
            "Labels:\n",
            " 5348     1.0\n",
            "339      1.0\n",
            "13591    0.0\n",
            "8153     1.0\n",
            "16345    1.0\n",
            "Name: is_fire, dtype: float32\n"
          ]
        }
      ]
    }
  ],
  "metadata": {
    "colab": {
      "provenance": []
    },
    "kernelspec": {
      "display_name": "Python 3",
      "name": "python3"
    },
    "language_info": {
      "name": "python"
    }
  },
  "nbformat": 4,
  "nbformat_minor": 0
}