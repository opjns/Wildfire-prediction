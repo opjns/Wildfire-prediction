{
  "nbformat": 4,
  "nbformat_minor": 0,
  "metadata": {
    "colab": {
      "provenance": []
    },
    "kernelspec": {
      "name": "python3",
      "display_name": "Python 3"
    },
    "language_info": {
      "name": "python"
    }
  },
  "cells": [
    {
      "cell_type": "code",
      "source": [
        "import pandas as pd\n",
        "import numpy as np\n",
        "from sklearn.model_selection import train_test_split\n",
        "from sklearn.ensemble import RandomForestClassifier\n",
        "from sklearn.metrics import accuracy_score, f1_score\n",
        "import matplotlib.pyplot as plt\n",
        "import seaborn as sns"
      ],
      "metadata": {
        "id": "ji12YvbCzAxv"
      },
      "execution_count": 9,
      "outputs": []
    },
    {
      "cell_type": "code",
      "source": [
        "import kagglehub\n",
        "import pandas as pd\n",
        "import os\n",
        "path1 = kagglehub.dataset_download(\"ayoubjadouli/morocco-wildfire-predictions-2010-2022-ml-dataset\") #Dataset จาก Jadouli, A. (2023). *Morocco Wildfire Predictions (2010-2022) ML Dataset* [Data set]. Kaggle. https://www.kaggle.com/datasets/ayoubjadouli/morocco-wildfire-predictions-2010-2022-ml-dataset\n",
        "file_path = os.path.join(path1, 'Date_final_dataset_balanced_float32.parquet')\n",
        "df = pd.read_parquet(file_path)\n",
        "df = df.head(3000)"
      ],
      "metadata": {
        "id": "3hWFtd5NzI-k"
      },
      "execution_count": 10,
      "outputs": []
    },
    {
      "cell_type": "code",
      "source": [
        "df = df[['latitude','longitude','NDVI','average_temperature_lag_1', 'precipitation_lag_1','dew_point_lag_1','wind_speed_lag_1','is_fire','acq_date']].rename(columns={\n",
        "    'average_temperature_lag_1': 'Temperature',\n",
        "    'precipitation_lag_1': 'Precipitation',\n",
        "    'dew_point_lag_1': 'Humidity',\n",
        "    'wind_speed_lag_1': 'Windspeed',\n",
        "    'acq_date': 'Date'})\n",
        "df[\"Temperature\"] = (df[\"Temperature\"] - 32) * 5.0/9.0\n",
        "df.rename(columns={\"Temperature\": \"Temperature\"}, inplace=True)"
      ],
      "metadata": {
        "id": "DroLcuWZzexI"
      },
      "execution_count": 11,
      "outputs": []
    },
    {
      "cell_type": "code",
      "source": [
        "features = ['Temperature', 'Humidity', 'Windspeed', 'Precipitation']\n",
        "X = df[features]\n",
        "y = df['is_fire']"
      ],
      "metadata": {
        "id": "Pg7CAGEazasS"
      },
      "execution_count": 12,
      "outputs": []
    },
    {
      "cell_type": "code",
      "source": [
        "X_train, X_test, y_train, y_test = train_test_split(X, y, test_size=0.2, random_state=42)\n",
        "\n",
        "model_fwi = RandomForestClassifier(n_estimators=100, random_state=42)\n",
        "model_fwi.fit(X_train, y_train)\n",
        "\n",
        "y_pred = model_fwi.predict(X_test)"
      ],
      "metadata": {
        "id": "y1VgKyAbzvg4"
      },
      "execution_count": 13,
      "outputs": []
    },
    {
      "cell_type": "code",
      "source": [
        "print(\"Accuracy:\", accuracy_score(y_test, y_pred))\n",
        "print(\"F1 Score:\", f1_score(y_test, y_pred))"
      ],
      "metadata": {
        "colab": {
          "base_uri": "https://localhost:8080/"
        },
        "id": "gSDjZTV8z2sD",
        "outputId": "7d8fd676-d144-41a5-e347-28d1f0e4f4dc"
      },
      "execution_count": 14,
      "outputs": [
        {
          "output_type": "stream",
          "name": "stdout",
          "text": [
            "Accuracy: 0.6683333333333333\n",
            "F1 Score: 0.6875981161695447\n"
          ]
        }
      ]
    },
    {
      "cell_type": "code",
      "source": [
        "# prompt: Confusion Matrix\n",
        "\n",
        "import matplotlib.pyplot as plt\n",
        "from sklearn.metrics import confusion_matrix\n",
        "\n",
        "cm = confusion_matrix(y_test, y_pred)\n",
        "plt.figure(figsize=(8, 6))\n",
        "sns.heatmap(cm, annot=True, fmt='d', cmap='Blues', xticklabels=['No Fire', 'Fire'], yticklabels=['No Fire', 'Fire'])\n",
        "plt.xlabel('Predicted')\n",
        "plt.ylabel('Actual')\n",
        "plt.title('Confusion Matrix')\n",
        "plt.show()\n"
      ],
      "metadata": {
        "colab": {
          "base_uri": "https://localhost:8080/",
          "height": 564
        },
        "id": "bawm_Va4KxHc",
        "outputId": "5023782c-4b26-4ba6-f41c-f434361e7c01"
      },
      "execution_count": 15,
      "outputs": [
        {
          "output_type": "display_data",
          "data": {
            "text/plain": [
              "<Figure size 800x600 with 2 Axes>"
            ],
            "image/png": "[encoded data removed]"
          },
          "metadata": {}
        }
      ]
    }
  ]
}