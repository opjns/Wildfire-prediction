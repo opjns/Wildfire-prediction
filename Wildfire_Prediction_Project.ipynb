{
  "nbformat": 4,
  "nbformat_minor": 0,
  "metadata": {
    "colab": {
      "provenance": [],
      "gpuType": "T4",
      "machine_shape": "hm",
      "authorship_tag": "ABX9TyOd46ABkBFvRdzIw6uzAAW4",
      "include_colab_link": true
    },
    "kernelspec": {
      "name": "python3",
      "display_name": "Python 3"
    },
    "language_info": {
      "name": "python"
    }
  },
  "cells": [
    {
      "cell_type": "markdown",
      "metadata": {
        "id": "view-in-github",
        "colab_type": "text"
      },
      "source": [
        "<a href=\"https://colab.research.google.com/github/opjns/Wildfire-prediction/blob/main/Wildfire_Prediction_Project.ipynb\" target=\"_parent\"><img src=\"https://colab.research.google.com/assets/colab-badge.svg\" alt=\"Open In Colab\"/></a>"
      ]
    },
    {
      "cell_type": "markdown",
      "source": [
        "#Climate Conditions"
      ],
      "metadata": {
        "id": "iBcojVKHg6Ed"
      }
    },
    {
      "cell_type": "markdown",
      "source": [
        "##Data"
      ],
      "metadata": {
        "id": "lEETmpaj84b9"
      }
    },
    {
      "cell_type": "code",
      "source": [
        "import kagglehub\n",
        "import pandas as pd\n",
        "import os\n",
        "\n",
        "# Download both datasets\n",
        "path1 = kagglehub.dataset_download(\"ayoubjadouli/morocco-wildfire-predictions-2010-2022-ml-dataset\")\n",
        "path2 = kagglehub.dataset_download(\"amin05/wildfire-analysis-and-prediction\")\n",
        "\n",
        "def load_all_data(path, n_rows=10000):\n",
        "    dataframes = []\n",
        "    for file in os.listdir(path):\n",
        "        full_path = os.path.join(path, file)\n",
        "        if file.endswith(\".parquet\"):\n",
        "            df = pd.read_parquet(full_path)\n",
        "            dataframes.append(df)\n",
        "        elif file.endswith(\".csv\"):\n",
        "            df = pd.read_csv(full_path)\n",
        "            dataframes.append(df)\n",
        "    return dataframes\n",
        "\n",
        "\n",
        "dfs1 = load_all_data(path1, n_rows=10000)\n",
        "dfs2 = load_all_data(path2, n_rows=10000)\n",
        "\n",
        "# Combine\n",
        "combined_df = pd.concat(dfs1 + dfs2, ignore_index=True)\n",
        "\n",
        "df = combined_df.copy()\n",
        "\n",
        "df_filtered = combined_df[['latitude','longitude','NDVI','average_temperature_lag_1', 'precipitation_lag_1','dew_point_lag_1','wind_speed_lag_1','is_fire',]].rename(columns={\n",
        "    'average_temperature_lag_1': 'Temperature',\n",
        "    'precipitation_lag_1': 'Precipitation',\n",
        "    'dew_point_lag_1': 'humidity',\n",
        "    'wind_speed_lag_1': 'windspeed'})"
      ],
      "metadata": {
        "id": "IPPT48o29B0p"
      },
      "execution_count": null,
      "outputs": []
    },
    {
      "cell_type": "code",
      "source": [
        "print(df_filtered.columns)"
      ],
      "metadata": {
        "colab": {
          "base_uri": "https://localhost:8080/"
        },
        "id": "wQ7JYS-srJEm",
        "outputId": "695e7256-ea59-4226-ead2-64d133025bd4"
      },
      "execution_count": null,
      "outputs": [
        {
          "output_type": "stream",
          "name": "stdout",
          "text": [
            "Index(['latitude', 'longitude', 'NDVI', 'Temperature', 'Precipitation',\n",
            "       'humidity', 'windspeed', 'is_fire'],\n",
            "      dtype='object')\n"
          ]
        }
      ]
    },
    {
      "cell_type": "markdown",
      "source": [
        "##Train Model"
      ],
      "metadata": {
        "id": "i9fL36fYCICu"
      }
    },
    {
      "cell_type": "code",
      "source": [
        "import pandas as pd\n",
        "from sklearn.model_selection import train_test_split\n",
        "from sklearn.ensemble import RandomForestClassifier\n",
        "from sklearn.metrics import classification_report, accuracy_score\n",
        "\n",
        "# Assuming df_filtered already exists and has only the relevant columns\n",
        "\n",
        "# 1. Drop any rows with missing values\n",
        "df_filtered = df_filtered.dropna()\n",
        "\n",
        "# 2. Define features and target\n",
        "X = df_filtered.drop(columns=['is_fire'])  # features\n",
        "y = df_filtered['is_fire']                 # target\n",
        "\n",
        "# 3. Split into training and testing sets\n",
        "X_train, X_test, y_train, y_test = train_test_split(\n",
        "    X, y, test_size=0.2, random_state=42\n",
        ")\n",
        "\n",
        "# 4. Train a Random Forest model\n",
        "model = RandomForestClassifier(n_estimators=100, random_state=42)\n",
        "model.fit(X_train, y_train)\n",
        "\n",
        "# 5. Predict on test set\n",
        "y_pred = model.predict(X_test)\n",
        "\n",
        "# 6. Evaluate\n",
        "print(\"Accuracy:\", accuracy_score(y_test, y_pred))\n",
        "print(\"Classification Report:\\n\", classification_report(y_test, y_pred))"
      ],
      "metadata": {
        "colab": {
          "base_uri": "https://localhost:8080/"
        },
        "id": "g6WeeoybCNWr",
        "outputId": "60fb0783-87be-4880-bb57-78b4ca2ed0c9"
      },
      "execution_count": null,
      "outputs": [
        {
          "output_type": "stream",
          "name": "stdout",
          "text": [
            "Accuracy: 0.9992884580404241\n",
            "Classification Report:\n",
            "               precision    recall  f1-score   support\n",
            "\n",
            "         0.0       1.00      1.00      1.00     93556\n",
            "         1.0       1.00      1.00      1.00     93362\n",
            "\n",
            "    accuracy                           1.00    186918\n",
            "   macro avg       1.00      1.00      1.00    186918\n",
            "weighted avg       1.00      1.00      1.00    186918\n",
            "\n"
          ]
        }
      ]
    },
    {
      "cell_type": "code",
      "source": [
        "print(df['is_fire'].value_counts())"
      ],
      "metadata": {
        "colab": {
          "base_uri": "https://localhost:8080/"
        },
        "id": "5X6KFSHUyEtC",
        "outputId": "d4358805-a2ac-4656-fd94-7bd804654930"
      },
      "execution_count": null,
      "outputs": [
        {
          "output_type": "stream",
          "name": "stdout",
          "text": [
            "is_fire\n",
            "1.0    467293\n",
            "0.0    467293\n",
            "Name: count, dtype: int64\n"
          ]
        }
      ]
    },
    {
      "cell_type": "markdown",
      "source": [
        "#Satellite Images"
      ],
      "metadata": {
        "id": "gWVUUZrK1isw"
      }
    },
    {
      "cell_type": "code",
      "source": [
        "import kagglehub\n",
        "\n",
        "# Download latest version\n",
        "path = kagglehub.dataset_download(\"abdelghaniaaba/wildfire-prediction-dataset\")\n",
        "\n",
        "print(\"Path to dataset files:\", path)"
      ],
      "metadata": {
        "colab": {
          "base_uri": "https://localhost:8080/"
        },
        "id": "HOFn8kBz1-5r",
        "outputId": "a2b325b8-69ca-400b-fa48-fbf80d15a69d"
      },
      "execution_count": null,
      "outputs": [
        {
          "output_type": "stream",
          "name": "stdout",
          "text": [
            "Path to dataset files: /kaggle/input/wildfire-prediction-dataset\n"
          ]
        }
      ]
    }
  ]
}